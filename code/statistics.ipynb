{
 "cells": [
  {
   "cell_type": "code",
   "execution_count": null,
   "metadata": {},
   "outputs": [],
   "source": [
    "sns.regplot(x='MONTH', y='Temp', data=df, order=5, color='darkred');\n",
    "sns.regplot(x='MONTH', y='Temp', data=df2, order=2, color='darkblue');\n",
    "sns.regplot(x='MONTH', y='Temp', data=df3, order=3, color='darkgreen');\n",
    "sns.regplot(x='MONTH', y='Temp', data=df4, order=3, color='lightblue');"
   ]
  }
 ],
 "metadata": {
  "kernelspec": {
   "display_name": "Python 3",
   "language": "python",
   "name": "python3"
  },
  "language_info": {
   "codemirror_mode": {
    "name": "ipython",
    "version": 3
   },
   "file_extension": ".py",
   "mimetype": "text/x-python",
   "name": "python",
   "nbconvert_exporter": "python",
   "pygments_lexer": "ipython3",
   "version": "3.5.4"
  }
 },
 "nbformat": 4,
 "nbformat_minor": 2
}
