{
 "cells": [
  {
   "cell_type": "markdown",
   "metadata": {},
   "source": [
    "# Time Series Project - Bokeh Graphs"
   ]
  },
  {
   "cell_type": "code",
   "execution_count": 1,
   "metadata": {},
   "outputs": [],
   "source": [
    "import pandas as pd\n",
    "import matplotlib.pyplot as plt\n",
    "import seaborn as sns\n",
    "%matplotlib inline"
   ]
  },
  {
   "cell_type": "code",
   "execution_count": 2,
   "metadata": {},
   "outputs": [],
   "source": [
    "# import bokeh packages\n",
    "from bokeh.plotting import figure, output_file, show\n",
    "from bokeh.layouts import gridplot"
   ]
  },
  {
   "cell_type": "code",
   "execution_count": 3,
   "metadata": {},
   "outputs": [],
   "source": [
    "# setup pandas and seaborn environments\n",
    "pd.set_option('display.max_rows', 25)\n",
    "sns.set()\n",
    "sns.set_context('notebook')\n",
    "sns.set_palette('colorblind')"
   ]
  },
  {
   "cell_type": "markdown",
   "metadata": {},
   "source": [
    "### Functions"
   ]
  },
  {
   "cell_type": "code",
   "execution_count": 4,
   "metadata": {},
   "outputs": [],
   "source": [
    "# Format date and add columns to dataframe\n",
    "def Organize_Data(i):\n",
    "    i['Date'] = pd.to_datetime(i['Date'])\n",
    "    i['YEAR'] = [x.year for x in i.Date]\n",
    "    i['MONTH'] = [x.month for x in i.Date]"
   ]
  },
  {
   "cell_type": "code",
   "execution_count": 5,
   "metadata": {},
   "outputs": [],
   "source": [
    "# Make a bokeh graph using data (i) and color (g)\n",
    "def Plot_Bokeh(i, g):\n",
    "    p = figure(width=1000, height=500, x_axis_type='datetime', \n",
    "               tools='pan,wheel_zoom,box_zoom,lasso_select,hover,reset,save')\n",
    "    p.circle(i.Date, i.Temp, color='%s' % g, size=10, alpha=0.5)\n",
    "    p.line(i.Date, i.Temp, color='%s' % g)\n",
    "    show(p)"
   ]
  },
  {
   "cell_type": "markdown",
   "metadata": {},
   "source": [
    "### Load Data"
   ]
  },
  {
   "cell_type": "code",
   "execution_count": 6,
   "metadata": {},
   "outputs": [],
   "source": [
    "# Import data as dataframe\n",
    "df = pd.read_csv('../data/san_diego.csv')\n",
    "df2 = pd.read_csv('../data/santa_cruz.csv')\n",
    "df3 = pd.read_csv('../data/bird_rock.csv')\n",
    "df4 = pd.read_csv('../data/SD_ledge.csv')"
   ]
  },
  {
   "cell_type": "code",
   "execution_count": 7,
   "metadata": {},
   "outputs": [],
   "source": [
    "# Format dataframes using Organized_Data function\n",
    "Organize_Data(df)\n",
    "Organize_Data(df2)\n",
    "Organize_Data(df3)\n",
    "Organize_Data(df4)"
   ]
  },
  {
   "cell_type": "markdown",
   "metadata": {},
   "source": [
    "### Bokeh plotting"
   ]
  },
  {
   "cell_type": "code",
   "execution_count": 8,
   "metadata": {},
   "outputs": [],
   "source": [
    "# Bokeh graph for San Diego\n",
    "Plot_Bokeh(df, 'darkred')"
   ]
  },
  {
   "cell_type": "code",
   "execution_count": 9,
   "metadata": {},
   "outputs": [],
   "source": [
    "# Bokeh graph for Santa Cruz\n",
    "Plot_Bokeh(df2, 'darkblue')"
   ]
  },
  {
   "cell_type": "code",
   "execution_count": 10,
   "metadata": {},
   "outputs": [],
   "source": [
    "# Bokeh graph for Bird Rock\n",
    "Plot_Bokeh(df3, 'darkgreen')"
   ]
  },
  {
   "cell_type": "code",
   "execution_count": 11,
   "metadata": {},
   "outputs": [],
   "source": [
    "# Bokeh graph for San Diego (ledge)\n",
    "Plot_Bokeh(df4, 'lightblue')"
   ]
  },
  {
   "cell_type": "markdown",
   "metadata": {},
   "source": [
    "### Interactive Bokeh multi-graph"
   ]
  },
  {
   "cell_type": "code",
   "execution_count": 14,
   "metadata": {},
   "outputs": [],
   "source": [
    "# Interactive Bokeh plot using all four temp vs time datasets\n",
    "# Note: Large datasets are slowing down the rendering of the graph\n",
    "p = figure(width=500, height=250, x_axis_type='datetime')\n",
    "p.circle(df.Date, df.Temp, color='darkred', size=1, alpha=0.5)\n",
    "p.line(df.Date, df.Temp, color='darkred', line_width=1)\n",
    "\n",
    "p2 = figure(width=500, height=250, x_range=p.x_range, y_range=p.y_range, x_axis_type='datetime', title=None)\n",
    "p2.circle(df2.Date, df2.Temp, color='darkblue', size=1, alpha=0.5)\n",
    "p2.line(df2.Date, df2.Temp, color='darkblue', line_width=1)\n",
    "\n",
    "p3 = figure(width=500, height=250, x_range=p.x_range, y_range=p.y_range, x_axis_type='datetime', title=None)\n",
    "p3.circle(df3.Date, df3.Temp, color='darkgreen', size=1, alpha=0.5)\n",
    "p3.line(df3.Date, df3.Temp, color='darkgreen', line_width=1)\n",
    "\n",
    "p4 = figure(width=500, height=250, x_range=p.x_range, y_range=p.y_range, x_axis_type='datetime', title=None)\n",
    "p4.circle(df4.Date, df4.Temp, color='lightblue', size=1, alpha=0.5)\n",
    "p4.line(df4.Date, df4.Temp, color='lightblue', line_width=1)\n",
    "\n",
    "q = gridplot([[p, p2], [p3, p4]], toolbar_location=None)\n",
    "\n",
    "show(q)"
   ]
  }
 ],
 "metadata": {
  "kernelspec": {
   "display_name": "Python 3",
   "language": "python",
   "name": "python3"
  },
  "language_info": {
   "codemirror_mode": {
    "name": "ipython",
    "version": 3
   },
   "file_extension": ".py",
   "mimetype": "text/x-python",
   "name": "python",
   "nbconvert_exporter": "python",
   "pygments_lexer": "ipython3",
   "version": "3.5.4"
  }
 },
 "nbformat": 4,
 "nbformat_minor": 2
}
