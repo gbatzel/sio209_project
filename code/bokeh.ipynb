{
 "cells": [
  {
   "cell_type": "markdown",
   "metadata": {},
   "source": [
    "# Time Series Project - Bokeh Graphs"
   ]
  },
  {
   "cell_type": "code",
   "execution_count": 1,
   "metadata": {},
   "outputs": [],
   "source": [
    "# import packages\n",
    "import pandas as pd\n",
    "import matplotlib.pyplot as plt\n",
    "import seaborn as sns\n",
    "%matplotlib inline"
   ]
  },
  {
   "cell_type": "code",
   "execution_count": 2,
   "metadata": {},
   "outputs": [],
   "source": [
    "# setup pandas and seaborn environments\n",
    "pd.set_option('display.max_rows', 25)\n",
    "sns.set()\n",
    "sns.set_context('notebook')\n",
    "sns.set_palette('colorblind')"
   ]
  },
  {
   "cell_type": "markdown",
   "metadata": {},
   "source": [
    "### Load Data"
   ]
  },
  {
   "cell_type": "code",
   "execution_count": 3,
   "metadata": {},
   "outputs": [],
   "source": [
    "df = pd.read_csv('../data/san_diego.csv')"
   ]
  },
  {
   "cell_type": "code",
   "execution_count": 4,
   "metadata": {},
   "outputs": [],
   "source": [
    "df2 = pd.read_csv('../data/santa_cruz.csv')"
   ]
  },
  {
   "cell_type": "code",
   "execution_count": 5,
   "metadata": {},
   "outputs": [],
   "source": [
    "df3 = pd.read_csv('../data/bird_rock.csv')"
   ]
  },
  {
   "cell_type": "code",
   "execution_count": 6,
   "metadata": {},
   "outputs": [],
   "source": [
    "df4 = pd.read_csv('../data/SD_ledge.csv')"
   ]
  },
  {
   "cell_type": "markdown",
   "metadata": {},
   "source": [
    "### San Diego"
   ]
  },
  {
   "cell_type": "code",
   "execution_count": 7,
   "metadata": {},
   "outputs": [],
   "source": [
    "df['DATE'] = pd.to_datetime(df['Date'])\n",
    "df = df.groupby('DATE').mean()\n",
    "df['MONTH'] = [x.month for x in df.index]\n",
    "df['YEAR'] = [x.year for x in df.index]\n",
    "df.reset_index(inplace=True)"
   ]
  },
  {
   "cell_type": "markdown",
   "metadata": {},
   "source": [
    "### Santa Cruz"
   ]
  },
  {
   "cell_type": "code",
   "execution_count": 8,
   "metadata": {},
   "outputs": [],
   "source": [
    "df2['DATE'] = pd.to_datetime(df2['Date'])\n",
    "df2 = df2.groupby('DATE').mean()\n",
    "df2['MONTH'] = [x.month for x in df2.index]\n",
    "df2['YEAR'] = [x.year for x in df2.index]\n",
    "df2.reset_index(inplace=True)"
   ]
  },
  {
   "cell_type": "markdown",
   "metadata": {},
   "source": [
    "### Bird Rock"
   ]
  },
  {
   "cell_type": "code",
   "execution_count": 9,
   "metadata": {},
   "outputs": [],
   "source": [
    "df3['DATE'] = pd.to_datetime(df3['Date'])\n",
    "df3 = df3.groupby('DATE').mean()\n",
    "df3['MONTH'] = [x.month for x in df3.index]\n",
    "df3['YEAR'] = [x.year for x in df3.index]\n",
    "df3.reset_index(inplace=True)"
   ]
  },
  {
   "cell_type": "markdown",
   "metadata": {},
   "source": [
    "### San Diego (Ledge)"
   ]
  },
  {
   "cell_type": "code",
   "execution_count": 10,
   "metadata": {},
   "outputs": [],
   "source": [
    "df4['DATE'] = pd.to_datetime(df4['Date'])\n",
    "df4 = df4.groupby('DATE').mean()\n",
    "df4['MONTH'] = [x.month for x in df4.index]\n",
    "df4['YEAR'] = [x.year for x in df4.index]\n",
    "df4.reset_index(inplace=True)"
   ]
  },
  {
   "cell_type": "markdown",
   "metadata": {},
   "source": [
    "## Bokeh plotting"
   ]
  },
  {
   "cell_type": "code",
   "execution_count": 11,
   "metadata": {},
   "outputs": [],
   "source": [
    "from bokeh.plotting import figure, output_file, show\n",
    "import pandas_datareader as pdr\n",
    "import pandas as pd"
   ]
  },
  {
   "cell_type": "code",
   "execution_count": 12,
   "metadata": {},
   "outputs": [],
   "source": [
    "# Bokeh graph for San Diego\n",
    "\n",
    "p = figure(width=1000, height=500, x_axis_type='datetime', \n",
    "           tools='pan,wheel_zoom,box_zoom,lasso_select,hover,reset,save')\n",
    "\n",
    "p.circle(df.DATE, df.Temp, color='darkred', size=10, alpha=0.5)\n",
    "p.line(df.DATE, df.Temp, color='darkred')\n",
    "\n",
    "output_file('../html/san_diego.html')\n",
    "\n",
    "show(p)"
   ]
  },
  {
   "cell_type": "code",
   "execution_count": 13,
   "metadata": {},
   "outputs": [],
   "source": [
    "# Bokeh graph for Santa Cruz\n",
    "\n",
    "p2 = figure(width=1000, height=500, x_axis_type='datetime', \n",
    "           tools='pan,wheel_zoom,box_zoom,lasso_select,hover,reset,save')\n",
    "\n",
    "p2.circle(df2.DATE, df2.Temp, color='darkblue', size=10, alpha=0.5)\n",
    "p2.line(df2.DATE, df2.Temp, color='darkblue')\n",
    "\n",
    "output_file('../html/santa_cruz.html')\n",
    "\n",
    "show(p2)"
   ]
  },
  {
   "cell_type": "code",
   "execution_count": 14,
   "metadata": {},
   "outputs": [],
   "source": [
    "# Bokeh graph for Bird Rock\n",
    "\n",
    "p3 = figure(width=1000, height=500, x_axis_type='datetime', \n",
    "           tools='pan,wheel_zoom,box_zoom,lasso_select,hover,reset,save')\n",
    "\n",
    "p3.circle(df3.DATE, df3.Temp, color='darkgreen', size=10, alpha=0.5)\n",
    "p3.line(df3.DATE, df3.Temp, color='darkgreen')\n",
    "\n",
    "output_file('../html/bird_rock.html')\n",
    "\n",
    "show(p3)"
   ]
  },
  {
   "cell_type": "code",
   "execution_count": 15,
   "metadata": {},
   "outputs": [],
   "source": [
    "# Bokeh graph for San Diego (ledge)\n",
    "\n",
    "p4 = figure(width=1000, height=500, x_axis_type='datetime', \n",
    "           tools='pan,wheel_zoom,box_zoom,lasso_select,hover,reset,save')\n",
    "\n",
    "p4.circle(df4.DATE, df4.Temp, color='lightblue', size=10, alpha=0.5)\n",
    "p4.line(df4.DATE, df4.Temp, color='lightblue')\n",
    "\n",
    "output_file('../html/sd_ledge.html')\n",
    "\n",
    "show(p4)"
   ]
  },
  {
   "cell_type": "markdown",
   "metadata": {},
   "source": [
    "## Combining Bokeh graphs"
   ]
  },
  {
   "cell_type": "code",
   "execution_count": 16,
   "metadata": {},
   "outputs": [],
   "source": [
    "from bokeh.layouts import gridplot\n",
    "from bokeh.plotting import figure, output_file, show\n",
    "\n",
    "# output to static HTML file\n",
    "output_file(\"linked_panning.html\")\n",
    "\n",
    "# create a new plot\n",
    "\n",
    "p = figure(width=500, height=250, x_axis_type='datetime')\n",
    "p.circle(df.DATE, df.Temp, color='darkred', size=1, alpha=0.5)\n",
    "p.line(df.DATE, df.Temp, color='darkred', line_width=1)\n",
    "\n",
    "# NEW: create a new plot and share both ranges\n",
    "\n",
    "p2 = figure(width=500, height=250, x_range=p.x_range, y_range=p.y_range, x_axis_type='datetime', title=None)\n",
    "p2.circle(df2.DATE, df2.Temp, color='darkblue', size=1, alpha=0.5)\n",
    "p2.line(df2.DATE, df2.Temp, color='darkblue', line_width=1)\n",
    "\n",
    "# Third plot\n",
    "\n",
    "p3 = figure(width=500, height=250, x_range=p.x_range, y_range=p.y_range, x_axis_type='datetime', title=None)\n",
    "p3.circle(df3.DATE, df3.Temp, color='darkgreen', size=1, alpha=0.5)\n",
    "p3.line(df3.DATE, df3.Temp, color='darkgreen', line_width=1)\n",
    "\n",
    "p4 = figure(width=500, height=250, x_range=p.x_range, y_range=p.y_range, x_axis_type='datetime', title=None)\n",
    "p4.circle(df4.DATE, df4.Temp, color='lightblue', size=1, alpha=0.5)\n",
    "p4.line(df4.DATE, df4.Temp, color='lightblue', line_width=1)\n",
    "\n",
    "# NEW: put the subplots in a gridplot\n",
    "q = gridplot([[p, p2, p3, p4]], toolbar_location=None)\n",
    "\n",
    "# show the results\n",
    "show(q)\n",
    "\n",
    "output_file('../html/interactive_graph.html')"
   ]
  },
  {
   "cell_type": "code",
   "execution_count": null,
   "metadata": {},
   "outputs": [],
   "source": []
  }
 ],
 "metadata": {
  "kernelspec": {
   "display_name": "Python 3",
   "language": "python",
   "name": "python3"
  },
  "language_info": {
   "codemirror_mode": {
    "name": "ipython",
    "version": 3
   },
   "file_extension": ".py",
   "mimetype": "text/x-python",
   "name": "python",
   "nbconvert_exporter": "python",
   "pygments_lexer": "ipython3",
   "version": "3.5.4"
  }
 },
 "nbformat": 4,
 "nbformat_minor": 2
}
