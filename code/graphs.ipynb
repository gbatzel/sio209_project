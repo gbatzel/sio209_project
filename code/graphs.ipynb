{
 "cells": [
  {
   "cell_type": "markdown",
   "metadata": {},
   "source": [
    "### Time series project"
   ]
  },
  {
   "cell_type": "code",
   "execution_count": 1,
   "metadata": {},
   "outputs": [],
   "source": [
    "import numpy as np\n",
    "import pandas as pd\n",
    "import seaborn as sns\n",
    "import matplotlib.pyplot as plt\n",
    "%matplotlib inline"
   ]
  },
  {
   "cell_type": "markdown",
   "metadata": {},
   "source": [
    "### Load Data"
   ]
  },
  {
   "cell_type": "code",
   "execution_count": 2,
   "metadata": {},
   "outputs": [],
   "source": [
    "df = pd.read_csv('../data/san_diego.csv')"
   ]
  },
  {
   "cell_type": "code",
   "execution_count": 3,
   "metadata": {},
   "outputs": [],
   "source": [
    "df2 = pd.read_csv('../data/santa_cruz.csv')"
   ]
  },
  {
   "cell_type": "code",
   "execution_count": 4,
   "metadata": {},
   "outputs": [],
   "source": [
    "df3 = pd.read_csv('../data/bird_rock.csv')"
   ]
  },
  {
   "cell_type": "code",
   "execution_count": 5,
   "metadata": {},
   "outputs": [],
   "source": [
    "df4 = pd.read_csv('../data/SD_ledge.csv')"
   ]
  },
  {
   "cell_type": "markdown",
   "metadata": {},
   "source": [
    "### San Diego"
   ]
  },
  {
   "cell_type": "code",
   "execution_count": 6,
   "metadata": {},
   "outputs": [],
   "source": [
    "# Change 'Date' column to a timestamp using pd.datetime()\n",
    "df['Date'] = pd.to_datetime(df['Date'])"
   ]
  },
  {
   "cell_type": "code",
   "execution_count": 7,
   "metadata": {},
   "outputs": [],
   "source": [
    "# We can add columns for year, month, day, and day of year.\n",
    "df['YEAR'] = [x.year for x in df.Date]\n",
    "df['MONTH'] = [x.month for x in df.Date]\n",
    "df['DAY'] = [x.day for x in df.Date]\n",
    "df['DAY_OF_YEAR'] = [x.dayofyear for x in df.Date]"
   ]
  },
  {
   "cell_type": "code",
   "execution_count": 8,
   "metadata": {},
   "outputs": [],
   "source": [
    "df_mean_by_month = df.groupby(['MONTH'], as_index=False).mean()"
   ]
  },
  {
   "cell_type": "markdown",
   "metadata": {},
   "source": [
    "### Santa Cruz"
   ]
  },
  {
   "cell_type": "code",
   "execution_count": 9,
   "metadata": {},
   "outputs": [],
   "source": [
    "# Change 'Date' column to a timestamp using pd.datetime()\n",
    "df2['Date'] = pd.to_datetime(df2['Date'])"
   ]
  },
  {
   "cell_type": "code",
   "execution_count": 10,
   "metadata": {},
   "outputs": [],
   "source": [
    "# We can add columns for year, month, day, and day of year.\n",
    "df2['YEAR'] = [x.year for x in df2.Date]\n",
    "df2['MONTH'] = [x.month for x in df2.Date]\n",
    "df2['DAY'] = [x.day for x in df2.Date]\n",
    "df2['DAY_OF_YEAR'] = [x.dayofyear for x in df2.Date]"
   ]
  },
  {
   "cell_type": "code",
   "execution_count": null,
   "metadata": {},
   "outputs": [],
   "source": [
    "df_mean_by_month2 = df2.groupby(['MONTH'], as_index=False).mean()"
   ]
  },
  {
   "cell_type": "markdown",
   "metadata": {},
   "source": [
    "### Bird Rock"
   ]
  },
  {
   "cell_type": "code",
   "execution_count": null,
   "metadata": {},
   "outputs": [],
   "source": [
    "# Change 'Date' column to a timestamp using pd.datetime()\n",
    "df3['Date'] = pd.to_datetime(df3['Date'])"
   ]
  },
  {
   "cell_type": "code",
   "execution_count": null,
   "metadata": {},
   "outputs": [],
   "source": [
    "# We can add columns for year, month, day, and day of year.\n",
    "df3['YEAR'] = [x.year for x in df3.Date]\n",
    "df3['MONTH'] = [x.month for x in df3.Date]\n",
    "df3['DAY'] = [x.day for x in df3.Date]\n",
    "df3['DAY_OF_YEAR'] = [x.dayofyear for x in df3.Date]"
   ]
  },
  {
   "cell_type": "code",
   "execution_count": null,
   "metadata": {},
   "outputs": [],
   "source": [
    "df_mean_by_month_3 = df3.groupby(['MONTH'], as_index=False).mean()"
   ]
  },
  {
   "cell_type": "markdown",
   "metadata": {},
   "source": [
    "## San Diego (ledge)"
   ]
  },
  {
   "cell_type": "code",
   "execution_count": null,
   "metadata": {},
   "outputs": [],
   "source": [
    "# Change 'Date' column to a timestamp using pd.datetime()\n",
    "df4['Date'] = pd.to_datetime(df4['Date'])"
   ]
  },
  {
   "cell_type": "code",
   "execution_count": null,
   "metadata": {},
   "outputs": [],
   "source": [
    "# We can add columns for year, month, day, and day of year.\n",
    "df4['YEAR'] = [x.year for x in df4.Date]\n",
    "df4['MONTH'] = [x.month for x in df4.Date]\n",
    "df4['DAY'] = [x.day for x in df4.Date]\n",
    "df4['DAY_OF_YEAR'] = [x.dayofyear for x in df4.Date]"
   ]
  },
  {
   "cell_type": "code",
   "execution_count": null,
   "metadata": {},
   "outputs": [],
   "source": [
    "df_mean_by_month_4 = df4.groupby(['MONTH'], as_index=False).mean()"
   ]
  },
  {
   "cell_type": "markdown",
   "metadata": {},
   "source": [
    "## Side-by-side Graphs"
   ]
  },
  {
   "cell_type": "code",
   "execution_count": null,
   "metadata": {
    "scrolled": true
   },
   "outputs": [],
   "source": [
    "fig, axes = plt.subplots(nrows=1, ncols=4, figsize=(20,4))\n",
    "\n",
    "axes[0].plot(df['Date'], df['Temp'], 'r')\n",
    "axes[0].set_xlabel('Date')\n",
    "axes[0].set_ylabel('Temperature')\n",
    "axes[0].set_title('San Diego')\n",
    "\n",
    "axes[1].plot(df2['Date'], df2['Temp'], 'b')\n",
    "axes[1].set_xlabel('Date')\n",
    "axes[1].set_ylabel('Temperature')\n",
    "axes[1].set_title('Santa Cruz')\n",
    "\n",
    "axes[2].plot(df3['Date'], df3['Temp'], 'g')\n",
    "axes[2].set_xlabel('Date')\n",
    "axes[2].set_ylabel('Temperature')\n",
    "axes[2].set_title('Bird Rock')\n",
    "\n",
    "axes[3].plot(df4['Date'], df4['Temp'], 'c')\n",
    "axes[3].set_xlabel('Date')\n",
    "axes[3].set_ylabel('Temperature')\n",
    "axes[3].set_title('San Diego (ledge)');\n"
   ]
  },
  {
   "cell_type": "code",
   "execution_count": null,
   "metadata": {},
   "outputs": [],
   "source": [
    "fig.savefig('../figures/daily_sidebyside.png', dpi=300)"
   ]
  },
  {
   "cell_type": "code",
   "execution_count": null,
   "metadata": {},
   "outputs": [],
   "source": [
    "fig, axes = plt.subplots(nrows=1, ncols=4, figsize=(20,4))\n",
    "\n",
    "axes[0].plot(df_mean_by_month.MONTH, df_mean_by_month.Temp, 'r')\n",
    "axes[0].set_xlabel('Month')\n",
    "axes[0].set_ylabel('Temperature')\n",
    "axes[0].set_title('San Diego')\n",
    "\n",
    "axes[1].plot(df_mean_by_month2.MONTH, df_mean_by_month2.Temp)\n",
    "axes[1].set_xlabel('Month')\n",
    "axes[1].set_ylabel('Temperature')\n",
    "axes[1].set_title('Santa Cruz')\n",
    "\n",
    "axes[2].plot(df_mean_by_month_3.MONTH, df_mean_by_month_3.Temp, 'g')\n",
    "axes[2].set_xlabel('Month')\n",
    "axes[2].set_ylabel('Temperature')\n",
    "axes[2].set_title('Bird Rock')\n",
    "\n",
    "axes[3].plot(df_mean_by_month_4.MONTH, df_mean_by_month_4.Temp, 'c')\n",
    "axes[3].set_xlabel('Date')\n",
    "axes[3].set_ylabel('Temperature')\n",
    "axes[3].set_title('San Diego (ledge)');\n"
   ]
  },
  {
   "cell_type": "code",
   "execution_count": null,
   "metadata": {},
   "outputs": [],
   "source": [
    "fig.savefig('../figures/side_by_side.png', dpi=300)"
   ]
  },
  {
   "cell_type": "markdown",
   "metadata": {},
   "source": [
    "## Combined graphs"
   ]
  },
  {
   "cell_type": "code",
   "execution_count": null,
   "metadata": {},
   "outputs": [],
   "source": [
    "fig, ax = plt.subplots(figsize=(12,12))\n",
    "\n",
    "ax.plot(df['Date'], df['Temp'], 'r', lw=1, label=\"San Diego\")\n",
    "ax.plot(df2['Date'], df2['Temp'], 'b', lw=1, label=\"Santa Cruz\")\n",
    "ax.plot(df3['Date'], df3['Temp'], 'g', lw=1, label=\"Bird Rock\")\n",
    "ax.plot(df4['Date'], df4['Temp'], 'c', lw=1, label=\"San Diego (ledge)\")\n",
    "ax.legend(loc=1, frameon=False); # upper left corner, no frame\n",
    "ax.set_xlabel('Date')\n",
    "ax.set_ylabel('Temperature')\n",
    "ax.set_title('Daily Teperature (2017)');"
   ]
  },
  {
   "cell_type": "code",
   "execution_count": null,
   "metadata": {},
   "outputs": [],
   "source": [
    "fig.savefig('../figures/daily_temp.png', dpi=300)"
   ]
  },
  {
   "cell_type": "code",
   "execution_count": null,
   "metadata": {
    "scrolled": false
   },
   "outputs": [],
   "source": [
    "fig, ax = plt.subplots(figsize=(12,12))\n",
    "\n",
    "ax.plot(df_mean_by_month.MONTH, df_mean_by_month.Temp, 'r.-', lw=1, label=\"San Diego\")\n",
    "ax.plot(df_mean_by_month2.MONTH, df_mean_by_month2.Temp, 'b.-', lw=1, label=\"Santa Cruz\")\n",
    "ax.plot(df_mean_by_month_3.MONTH, df_mean_by_month_3.Temp, 'g.-', lw=1, label=\"Bird Rock\")\n",
    "ax.plot(df_mean_by_month_4.MONTH, df_mean_by_month_4.Temp, 'c.-', lw=1, label=\"San Diego (ledge)\")\n",
    "ax.legend(loc=1, frameon=False); # upper left corner, no frame\n",
    "ax.set_xlabel('Month')\n",
    "ax.set_ylabel('Temperature')\n",
    "ax.set_title('Average Monthly Teperature (2017)')\n",
    "ax.set_xticks([1, 2, 3, 4, 5, 6, 7, 8, 9, 10, 11, 12]);"
   ]
  },
  {
   "cell_type": "code",
   "execution_count": null,
   "metadata": {},
   "outputs": [],
   "source": [
    "fig.savefig('../figures/monthly_avaerage.png', dpi=300)"
   ]
  },
  {
   "cell_type": "code",
   "execution_count": null,
   "metadata": {},
   "outputs": [],
   "source": []
  }
 ],
 "metadata": {
  "kernelspec": {
   "display_name": "Python 3",
   "language": "python",
   "name": "python3"
  },
  "language_info": {
   "codemirror_mode": {
    "name": "ipython",
    "version": 3
   },
   "file_extension": ".py",
   "mimetype": "text/x-python",
   "name": "python",
   "nbconvert_exporter": "python",
   "pygments_lexer": "ipython3",
   "version": "3.5.4"
  }
 },
 "nbformat": 4,
 "nbformat_minor": 2
}
