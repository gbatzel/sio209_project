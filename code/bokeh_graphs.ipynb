{
 "cells": [
  {
   "cell_type": "code",
   "execution_count": 64,
   "metadata": {},
   "outputs": [],
   "source": [
    "# import required packages\n",
    "import pandas as pd\n",
    "import numpy as np\n",
    "import scipy\n",
    "from outliers import smirnov_grubbs as grubbs\n",
    "import skbio\n",
    "import matplotlib.pyplot as plt\n",
    "import seaborn as sns\n",
    "%matplotlib inline"
   ]
  },
  {
   "cell_type": "code",
   "execution_count": 65,
   "metadata": {},
   "outputs": [],
   "source": [
    "# set up pandas and seaborn environments\n",
    "pd.set_option('display.max_rows', 25)\n",
    "sns.set()\n",
    "sns.set_context('notebook')\n",
    "sns.set_palette('colorblind')"
   ]
  },
  {
   "cell_type": "code",
   "execution_count": 66,
   "metadata": {},
   "outputs": [],
   "source": [
    "df = pd.read_csv('../data/san_diego.csv')"
   ]
  },
  {
   "cell_type": "code",
   "execution_count": 67,
   "metadata": {},
   "outputs": [],
   "source": [
    "df['DATE'] = pd.to_datetime(df['Date'])\n",
    "df = df.groupby('DATE').mean()\n",
    "df['MONTH'] = [x.month for x in df.index]\n",
    "df['YEAR'] = [x.year for x in df.index]\n",
    "df.reset_index(inplace=True)"
   ]
  },
  {
   "cell_type": "code",
   "execution_count": 68,
   "metadata": {},
   "outputs": [
    {
     "data": {
      "text/html": [
       "<div>\n",
       "<style scoped>\n",
       "    .dataframe tbody tr th:only-of-type {\n",
       "        vertical-align: middle;\n",
       "    }\n",
       "\n",
       "    .dataframe tbody tr th {\n",
       "        vertical-align: top;\n",
       "    }\n",
       "\n",
       "    .dataframe thead th {\n",
       "        text-align: right;\n",
       "    }\n",
       "</style>\n",
       "<table border=\"1\" class=\"dataframe\">\n",
       "  <thead>\n",
       "    <tr style=\"text-align: right;\">\n",
       "      <th></th>\n",
       "      <th>DATE</th>\n",
       "      <th>Temp</th>\n",
       "      <th>MONTH</th>\n",
       "      <th>YEAR</th>\n",
       "    </tr>\n",
       "  </thead>\n",
       "  <tbody>\n",
       "    <tr>\n",
       "      <th>0</th>\n",
       "      <td>2017-02-08 16:36:00</td>\n",
       "      <td>21.000</td>\n",
       "      <td>2</td>\n",
       "      <td>2017</td>\n",
       "    </tr>\n",
       "    <tr>\n",
       "      <th>1</th>\n",
       "      <td>2017-02-08 16:40:00</td>\n",
       "      <td>21.000</td>\n",
       "      <td>2</td>\n",
       "      <td>2017</td>\n",
       "    </tr>\n",
       "    <tr>\n",
       "      <th>2</th>\n",
       "      <td>2017-02-08 16:53:00</td>\n",
       "      <td>21.000</td>\n",
       "      <td>2</td>\n",
       "      <td>2017</td>\n",
       "    </tr>\n",
       "    <tr>\n",
       "      <th>3</th>\n",
       "      <td>2017-02-08 16:57:00</td>\n",
       "      <td>20.500</td>\n",
       "      <td>2</td>\n",
       "      <td>2017</td>\n",
       "    </tr>\n",
       "    <tr>\n",
       "      <th>4</th>\n",
       "      <td>2017-02-08 17:10:00</td>\n",
       "      <td>20.500</td>\n",
       "      <td>2</td>\n",
       "      <td>2017</td>\n",
       "    </tr>\n",
       "    <tr>\n",
       "      <th>5</th>\n",
       "      <td>2017-02-08 17:14:00</td>\n",
       "      <td>20.500</td>\n",
       "      <td>2</td>\n",
       "      <td>2017</td>\n",
       "    </tr>\n",
       "    <tr>\n",
       "      <th>6</th>\n",
       "      <td>2017-02-08 17:27:00</td>\n",
       "      <td>20.500</td>\n",
       "      <td>2</td>\n",
       "      <td>2017</td>\n",
       "    </tr>\n",
       "    <tr>\n",
       "      <th>7</th>\n",
       "      <td>2017-02-08 17:31:00</td>\n",
       "      <td>20.000</td>\n",
       "      <td>2</td>\n",
       "      <td>2017</td>\n",
       "    </tr>\n",
       "    <tr>\n",
       "      <th>8</th>\n",
       "      <td>2017-02-08 17:44:00</td>\n",
       "      <td>20.000</td>\n",
       "      <td>2</td>\n",
       "      <td>2017</td>\n",
       "    </tr>\n",
       "    <tr>\n",
       "      <th>9</th>\n",
       "      <td>2017-02-08 17:48:00</td>\n",
       "      <td>19.500</td>\n",
       "      <td>2</td>\n",
       "      <td>2017</td>\n",
       "    </tr>\n",
       "    <tr>\n",
       "      <th>10</th>\n",
       "      <td>2017-02-08 18:01:00</td>\n",
       "      <td>19.500</td>\n",
       "      <td>2</td>\n",
       "      <td>2017</td>\n",
       "    </tr>\n",
       "    <tr>\n",
       "      <th>11</th>\n",
       "      <td>2017-02-08 18:05:00</td>\n",
       "      <td>19.000</td>\n",
       "      <td>2</td>\n",
       "      <td>2017</td>\n",
       "    </tr>\n",
       "    <tr>\n",
       "      <th>...</th>\n",
       "      <td>...</td>\n",
       "      <td>...</td>\n",
       "      <td>...</td>\n",
       "      <td>...</td>\n",
       "    </tr>\n",
       "    <tr>\n",
       "      <th>49890</th>\n",
       "      <td>2018-02-18 11:09:00</td>\n",
       "      <td>20.632</td>\n",
       "      <td>2</td>\n",
       "      <td>2018</td>\n",
       "    </tr>\n",
       "    <tr>\n",
       "      <th>49891</th>\n",
       "      <td>2018-02-18 11:12:00</td>\n",
       "      <td>19.500</td>\n",
       "      <td>2</td>\n",
       "      <td>2018</td>\n",
       "    </tr>\n",
       "    <tr>\n",
       "      <th>49892</th>\n",
       "      <td>2018-02-18 11:26:00</td>\n",
       "      <td>21.633</td>\n",
       "      <td>2</td>\n",
       "      <td>2018</td>\n",
       "    </tr>\n",
       "    <tr>\n",
       "      <th>49893</th>\n",
       "      <td>2018-02-18 11:29:00</td>\n",
       "      <td>20.000</td>\n",
       "      <td>2</td>\n",
       "      <td>2018</td>\n",
       "    </tr>\n",
       "    <tr>\n",
       "      <th>49894</th>\n",
       "      <td>2018-02-18 11:43:00</td>\n",
       "      <td>22.634</td>\n",
       "      <td>2</td>\n",
       "      <td>2018</td>\n",
       "    </tr>\n",
       "    <tr>\n",
       "      <th>49895</th>\n",
       "      <td>2018-02-18 11:46:00</td>\n",
       "      <td>20.500</td>\n",
       "      <td>2</td>\n",
       "      <td>2018</td>\n",
       "    </tr>\n",
       "    <tr>\n",
       "      <th>49896</th>\n",
       "      <td>2018-02-18 12:00:00</td>\n",
       "      <td>23.134</td>\n",
       "      <td>2</td>\n",
       "      <td>2018</td>\n",
       "    </tr>\n",
       "    <tr>\n",
       "      <th>49897</th>\n",
       "      <td>2018-02-18 12:03:00</td>\n",
       "      <td>21.000</td>\n",
       "      <td>2</td>\n",
       "      <td>2018</td>\n",
       "    </tr>\n",
       "    <tr>\n",
       "      <th>49898</th>\n",
       "      <td>2018-02-18 12:17:00</td>\n",
       "      <td>24.135</td>\n",
       "      <td>2</td>\n",
       "      <td>2018</td>\n",
       "    </tr>\n",
       "    <tr>\n",
       "      <th>49899</th>\n",
       "      <td>2018-02-18 12:20:00</td>\n",
       "      <td>21.500</td>\n",
       "      <td>2</td>\n",
       "      <td>2018</td>\n",
       "    </tr>\n",
       "    <tr>\n",
       "      <th>49900</th>\n",
       "      <td>2018-02-18 12:34:00</td>\n",
       "      <td>23.634</td>\n",
       "      <td>2</td>\n",
       "      <td>2018</td>\n",
       "    </tr>\n",
       "    <tr>\n",
       "      <th>49901</th>\n",
       "      <td>2018-02-18 12:37:00</td>\n",
       "      <td>21.500</td>\n",
       "      <td>2</td>\n",
       "      <td>2018</td>\n",
       "    </tr>\n",
       "  </tbody>\n",
       "</table>\n",
       "<p>49902 rows × 4 columns</p>\n",
       "</div>"
      ],
      "text/plain": [
       "                     DATE    Temp  MONTH  YEAR\n",
       "0     2017-02-08 16:36:00  21.000      2  2017\n",
       "1     2017-02-08 16:40:00  21.000      2  2017\n",
       "2     2017-02-08 16:53:00  21.000      2  2017\n",
       "3     2017-02-08 16:57:00  20.500      2  2017\n",
       "4     2017-02-08 17:10:00  20.500      2  2017\n",
       "5     2017-02-08 17:14:00  20.500      2  2017\n",
       "6     2017-02-08 17:27:00  20.500      2  2017\n",
       "7     2017-02-08 17:31:00  20.000      2  2017\n",
       "8     2017-02-08 17:44:00  20.000      2  2017\n",
       "9     2017-02-08 17:48:00  19.500      2  2017\n",
       "10    2017-02-08 18:01:00  19.500      2  2017\n",
       "11    2017-02-08 18:05:00  19.000      2  2017\n",
       "...                   ...     ...    ...   ...\n",
       "49890 2018-02-18 11:09:00  20.632      2  2018\n",
       "49891 2018-02-18 11:12:00  19.500      2  2018\n",
       "49892 2018-02-18 11:26:00  21.633      2  2018\n",
       "49893 2018-02-18 11:29:00  20.000      2  2018\n",
       "49894 2018-02-18 11:43:00  22.634      2  2018\n",
       "49895 2018-02-18 11:46:00  20.500      2  2018\n",
       "49896 2018-02-18 12:00:00  23.134      2  2018\n",
       "49897 2018-02-18 12:03:00  21.000      2  2018\n",
       "49898 2018-02-18 12:17:00  24.135      2  2018\n",
       "49899 2018-02-18 12:20:00  21.500      2  2018\n",
       "49900 2018-02-18 12:34:00  23.634      2  2018\n",
       "49901 2018-02-18 12:37:00  21.500      2  2018\n",
       "\n",
       "[49902 rows x 4 columns]"
      ]
     },
     "execution_count": 68,
     "metadata": {},
     "output_type": "execute_result"
    }
   ],
   "source": [
    "df"
   ]
  },
  {
   "cell_type": "code",
   "execution_count": 69,
   "metadata": {},
   "outputs": [
    {
     "data": {
      "image/png": "[encoded data removed]",
      "text/plain": [
       "<matplotlib.figure.Figure at 0x1a0a36d400>"
      ]
     },
     "metadata": {},
     "output_type": "display_data"
    }
   ],
   "source": [
    "# explore the data using a plot\n",
    "plt.plot(df.DATE, df.Temp);"
   ]
  },
  {
   "cell_type": "code",
   "execution_count": 70,
   "metadata": {},
   "outputs": [
    {
     "data": {
      "image/png": "[encoded data removed]",
      "text/plain": [
       "<matplotlib.figure.Figure at 0x1025ace80>"
      ]
     },
     "metadata": {},
     "output_type": "display_data"
    }
   ],
   "source": [
    "# make sure our index is sequential\n",
    "plt.plot(df.index, df.Temp);"
   ]
  },
  {
   "cell_type": "code",
   "execution_count": 71,
   "metadata": {},
   "outputs": [
    {
     "data": {
      "text/html": [
       "<div>\n",
       "<style scoped>\n",
       "    .dataframe tbody tr th:only-of-type {\n",
       "        vertical-align: middle;\n",
       "    }\n",
       "\n",
       "    .dataframe tbody tr th {\n",
       "        vertical-align: top;\n",
       "    }\n",
       "\n",
       "    .dataframe thead th {\n",
       "        text-align: right;\n",
       "    }\n",
       "</style>\n",
       "<table border=\"1\" class=\"dataframe\">\n",
       "  <thead>\n",
       "    <tr style=\"text-align: right;\">\n",
       "      <th></th>\n",
       "      <th>Temp</th>\n",
       "      <th>MONTH</th>\n",
       "      <th>YEAR</th>\n",
       "    </tr>\n",
       "  </thead>\n",
       "  <tbody>\n",
       "    <tr>\n",
       "      <th>count</th>\n",
       "      <td>49902.000000</td>\n",
       "      <td>49902.000000</td>\n",
       "      <td>49902.000000</td>\n",
       "    </tr>\n",
       "    <tr>\n",
       "      <th>mean</th>\n",
       "      <td>20.426237</td>\n",
       "      <td>6.414352</td>\n",
       "      <td>2017.102942</td>\n",
       "    </tr>\n",
       "    <tr>\n",
       "      <th>std</th>\n",
       "      <td>5.124429</td>\n",
       "      <td>3.524336</td>\n",
       "      <td>0.303886</td>\n",
       "    </tr>\n",
       "    <tr>\n",
       "      <th>min</th>\n",
       "      <td>7.500000</td>\n",
       "      <td>1.000000</td>\n",
       "      <td>2017.000000</td>\n",
       "    </tr>\n",
       "    <tr>\n",
       "      <th>25%</th>\n",
       "      <td>16.500000</td>\n",
       "      <td>3.000000</td>\n",
       "      <td>2017.000000</td>\n",
       "    </tr>\n",
       "    <tr>\n",
       "      <th>50%</th>\n",
       "      <td>19.500000</td>\n",
       "      <td>6.000000</td>\n",
       "      <td>2017.000000</td>\n",
       "    </tr>\n",
       "    <tr>\n",
       "      <th>75%</th>\n",
       "      <td>23.500000</td>\n",
       "      <td>10.000000</td>\n",
       "      <td>2017.000000</td>\n",
       "    </tr>\n",
       "    <tr>\n",
       "      <th>max</th>\n",
       "      <td>41.548000</td>\n",
       "      <td>12.000000</td>\n",
       "      <td>2018.000000</td>\n",
       "    </tr>\n",
       "  </tbody>\n",
       "</table>\n",
       "</div>"
      ],
      "text/plain": [
       "               Temp         MONTH          YEAR\n",
       "count  49902.000000  49902.000000  49902.000000\n",
       "mean      20.426237      6.414352   2017.102942\n",
       "std        5.124429      3.524336      0.303886\n",
       "min        7.500000      1.000000   2017.000000\n",
       "25%       16.500000      3.000000   2017.000000\n",
       "50%       19.500000      6.000000   2017.000000\n",
       "75%       23.500000     10.000000   2017.000000\n",
       "max       41.548000     12.000000   2018.000000"
      ]
     },
     "execution_count": 71,
     "metadata": {},
     "output_type": "execute_result"
    }
   ],
   "source": [
    "# describe\n",
    "df.describe()"
   ]
  },
  {
   "cell_type": "code",
   "execution_count": 72,
   "metadata": {},
   "outputs": [
    {
     "data": {
      "text/plain": [
       "20.426237084685987"
      ]
     },
     "execution_count": 72,
     "metadata": {},
     "output_type": "execute_result"
    }
   ],
   "source": [
    "# mean\n",
    "df.Temp.mean()"
   ]
  },
  {
   "cell_type": "code",
   "execution_count": 73,
   "metadata": {},
   "outputs": [
    {
     "data": {
      "text/plain": [
       "5.124428559095582"
      ]
     },
     "execution_count": 73,
     "metadata": {},
     "output_type": "execute_result"
    }
   ],
   "source": [
    "# std\n",
    "df.Temp.std()"
   ]
  },
  {
   "cell_type": "code",
   "execution_count": 74,
   "metadata": {},
   "outputs": [
    {
     "data": {
      "text/plain": [
       "(16.5, 19.5, 23.5)"
      ]
     },
     "execution_count": 74,
     "metadata": {},
     "output_type": "execute_result"
    }
   ],
   "source": [
    "# quantile\n",
    "df.Temp.quantile(0.25), df.Temp.quantile(0.5), df.Temp.quantile(0.75)"
   ]
  },
  {
   "cell_type": "code",
   "execution_count": 75,
   "metadata": {},
   "outputs": [
    {
     "data": {
      "text/plain": [
       "(7.5, 43953)"
      ]
     },
     "execution_count": 75,
     "metadata": {},
     "output_type": "execute_result"
    }
   ],
   "source": [
    "# min\n",
    "df.Temp.min(), df.Temp.idxmin()"
   ]
  },
  {
   "cell_type": "code",
   "execution_count": 76,
   "metadata": {},
   "outputs": [
    {
     "data": {
      "text/plain": [
       "(41.548, 42.0, 17366)"
      ]
     },
     "execution_count": 76,
     "metadata": {},
     "output_type": "execute_result"
    }
   ],
   "source": [
    "# max (with rounding)\n",
    "df.Temp.max(), df.Temp.max().round(), df.Temp.idxmax()"
   ]
  },
  {
   "cell_type": "code",
   "execution_count": 77,
   "metadata": {},
   "outputs": [
    {
     "data": {
      "text/plain": [
       "0             21.000\n",
       "1             42.000\n",
       "2             63.000\n",
       "3             83.500\n",
       "4            104.000\n",
       "5            124.500\n",
       "6            145.000\n",
       "7            165.000\n",
       "8            185.000\n",
       "9            204.500\n",
       "10           224.000\n",
       "11           243.000\n",
       "            ...     \n",
       "49890    1019070.913\n",
       "49891    1019090.413\n",
       "49892    1019112.046\n",
       "49893    1019132.046\n",
       "49894    1019154.680\n",
       "49895    1019175.180\n",
       "49896    1019198.314\n",
       "49897    1019219.314\n",
       "49898    1019243.449\n",
       "49899    1019264.949\n",
       "49900    1019288.583\n",
       "49901    1019310.083\n",
       "Name: Temp, Length: 49902, dtype: float64"
      ]
     },
     "execution_count": 77,
     "metadata": {},
     "output_type": "execute_result"
    }
   ],
   "source": [
    "# cumsum\n",
    "df.Temp.cumsum()"
   ]
  },
  {
   "cell_type": "code",
   "execution_count": 78,
   "metadata": {},
   "outputs": [
    {
     "data": {
      "text/plain": [
       "16.0    5759\n",
       "18.0    5373\n",
       "20.0    4603\n",
       "22.0    4024\n",
       "24.0    3290\n",
       "17.0    3207\n",
       "19.0    2927\n",
       "14.0    2768\n",
       "21.0    2520\n",
       "15.0    2115\n",
       "23.0    2019\n",
       "26.0    1699\n",
       "        ... \n",
       "10.0     221\n",
       "36.0     191\n",
       "11.0     125\n",
       "35.0     123\n",
       "9.0       36\n",
       "37.0      34\n",
       "8.0       33\n",
       "38.0      31\n",
       "40.0      22\n",
       "39.0      18\n",
       "41.0      11\n",
       "42.0       4\n",
       "Name: Temp, Length: 35, dtype: int64"
      ]
     },
     "execution_count": 78,
     "metadata": {},
     "output_type": "execute_result"
    }
   ],
   "source": [
    "# value_counts\n",
    "df.Temp.round().value_counts()"
   ]
  },
  {
   "cell_type": "markdown",
   "metadata": {},
   "source": [
    "### Regression analysis"
   ]
  },
  {
   "cell_type": "code",
   "execution_count": 79,
   "metadata": {},
   "outputs": [
    {
     "data": {
      "image/png": "[encoded data removed]",
      "text/plain": [
       "<matplotlib.figure.Figure at 0x1a09f80160>"
      ]
     },
     "metadata": {},
     "output_type": "display_data"
    }
   ],
   "source": [
    "sns.regplot(x='MONTH', y='Temp', data=df, order=1, color='red');"
   ]
  },
  {
   "cell_type": "code",
   "execution_count": 80,
   "metadata": {},
   "outputs": [
    {
     "data": {
      "image/png": "[encoded data removed]",
      "text/plain": [
       "<matplotlib.figure.Figure at 0x1a09aa7f28>"
      ]
     },
     "metadata": {},
     "output_type": "display_data"
    }
   ],
   "source": [
    "sns.regplot(x='MONTH', y='Temp', data=df, order=2, color='red');"
   ]
  },
  {
   "cell_type": "code",
   "execution_count": 81,
   "metadata": {},
   "outputs": [
    {
     "data": {
      "text/html": [
       "<div>\n",
       "<style scoped>\n",
       "    .dataframe tbody tr th:only-of-type {\n",
       "        vertical-align: middle;\n",
       "    }\n",
       "\n",
       "    .dataframe tbody tr th {\n",
       "        vertical-align: top;\n",
       "    }\n",
       "\n",
       "    .dataframe thead th {\n",
       "        text-align: right;\n",
       "    }\n",
       "</style>\n",
       "<table border=\"1\" class=\"dataframe\">\n",
       "  <thead>\n",
       "    <tr style=\"text-align: right;\">\n",
       "      <th></th>\n",
       "      <th>DATE</th>\n",
       "      <th>Temp</th>\n",
       "      <th>MONTH</th>\n",
       "      <th>YEAR</th>\n",
       "    </tr>\n",
       "  </thead>\n",
       "  <tbody>\n",
       "    <tr>\n",
       "      <th>0</th>\n",
       "      <td>2017-02-08 16:36:00</td>\n",
       "      <td>21.000</td>\n",
       "      <td>2</td>\n",
       "      <td>2017</td>\n",
       "    </tr>\n",
       "    <tr>\n",
       "      <th>1</th>\n",
       "      <td>2017-02-08 16:40:00</td>\n",
       "      <td>21.000</td>\n",
       "      <td>2</td>\n",
       "      <td>2017</td>\n",
       "    </tr>\n",
       "    <tr>\n",
       "      <th>2</th>\n",
       "      <td>2017-02-08 16:53:00</td>\n",
       "      <td>21.000</td>\n",
       "      <td>2</td>\n",
       "      <td>2017</td>\n",
       "    </tr>\n",
       "    <tr>\n",
       "      <th>3</th>\n",
       "      <td>2017-02-08 16:57:00</td>\n",
       "      <td>20.500</td>\n",
       "      <td>2</td>\n",
       "      <td>2017</td>\n",
       "    </tr>\n",
       "    <tr>\n",
       "      <th>4</th>\n",
       "      <td>2017-02-08 17:10:00</td>\n",
       "      <td>20.500</td>\n",
       "      <td>2</td>\n",
       "      <td>2017</td>\n",
       "    </tr>\n",
       "    <tr>\n",
       "      <th>5</th>\n",
       "      <td>2017-02-08 17:14:00</td>\n",
       "      <td>20.500</td>\n",
       "      <td>2</td>\n",
       "      <td>2017</td>\n",
       "    </tr>\n",
       "    <tr>\n",
       "      <th>6</th>\n",
       "      <td>2017-02-08 17:27:00</td>\n",
       "      <td>20.500</td>\n",
       "      <td>2</td>\n",
       "      <td>2017</td>\n",
       "    </tr>\n",
       "    <tr>\n",
       "      <th>7</th>\n",
       "      <td>2017-02-08 17:31:00</td>\n",
       "      <td>20.000</td>\n",
       "      <td>2</td>\n",
       "      <td>2017</td>\n",
       "    </tr>\n",
       "    <tr>\n",
       "      <th>8</th>\n",
       "      <td>2017-02-08 17:44:00</td>\n",
       "      <td>20.000</td>\n",
       "      <td>2</td>\n",
       "      <td>2017</td>\n",
       "    </tr>\n",
       "    <tr>\n",
       "      <th>9</th>\n",
       "      <td>2017-02-08 17:48:00</td>\n",
       "      <td>19.500</td>\n",
       "      <td>2</td>\n",
       "      <td>2017</td>\n",
       "    </tr>\n",
       "    <tr>\n",
       "      <th>10</th>\n",
       "      <td>2017-02-08 18:01:00</td>\n",
       "      <td>19.500</td>\n",
       "      <td>2</td>\n",
       "      <td>2017</td>\n",
       "    </tr>\n",
       "    <tr>\n",
       "      <th>11</th>\n",
       "      <td>2017-02-08 18:05:00</td>\n",
       "      <td>19.000</td>\n",
       "      <td>2</td>\n",
       "      <td>2017</td>\n",
       "    </tr>\n",
       "    <tr>\n",
       "      <th>...</th>\n",
       "      <td>...</td>\n",
       "      <td>...</td>\n",
       "      <td>...</td>\n",
       "      <td>...</td>\n",
       "    </tr>\n",
       "    <tr>\n",
       "      <th>49890</th>\n",
       "      <td>2018-02-18 11:09:00</td>\n",
       "      <td>20.632</td>\n",
       "      <td>2</td>\n",
       "      <td>2018</td>\n",
       "    </tr>\n",
       "    <tr>\n",
       "      <th>49891</th>\n",
       "      <td>2018-02-18 11:12:00</td>\n",
       "      <td>19.500</td>\n",
       "      <td>2</td>\n",
       "      <td>2018</td>\n",
       "    </tr>\n",
       "    <tr>\n",
       "      <th>49892</th>\n",
       "      <td>2018-02-18 11:26:00</td>\n",
       "      <td>21.633</td>\n",
       "      <td>2</td>\n",
       "      <td>2018</td>\n",
       "    </tr>\n",
       "    <tr>\n",
       "      <th>49893</th>\n",
       "      <td>2018-02-18 11:29:00</td>\n",
       "      <td>20.000</td>\n",
       "      <td>2</td>\n",
       "      <td>2018</td>\n",
       "    </tr>\n",
       "    <tr>\n",
       "      <th>49894</th>\n",
       "      <td>2018-02-18 11:43:00</td>\n",
       "      <td>22.634</td>\n",
       "      <td>2</td>\n",
       "      <td>2018</td>\n",
       "    </tr>\n",
       "    <tr>\n",
       "      <th>49895</th>\n",
       "      <td>2018-02-18 11:46:00</td>\n",
       "      <td>20.500</td>\n",
       "      <td>2</td>\n",
       "      <td>2018</td>\n",
       "    </tr>\n",
       "    <tr>\n",
       "      <th>49896</th>\n",
       "      <td>2018-02-18 12:00:00</td>\n",
       "      <td>23.134</td>\n",
       "      <td>2</td>\n",
       "      <td>2018</td>\n",
       "    </tr>\n",
       "    <tr>\n",
       "      <th>49897</th>\n",
       "      <td>2018-02-18 12:03:00</td>\n",
       "      <td>21.000</td>\n",
       "      <td>2</td>\n",
       "      <td>2018</td>\n",
       "    </tr>\n",
       "    <tr>\n",
       "      <th>49898</th>\n",
       "      <td>2018-02-18 12:17:00</td>\n",
       "      <td>24.135</td>\n",
       "      <td>2</td>\n",
       "      <td>2018</td>\n",
       "    </tr>\n",
       "    <tr>\n",
       "      <th>49899</th>\n",
       "      <td>2018-02-18 12:20:00</td>\n",
       "      <td>21.500</td>\n",
       "      <td>2</td>\n",
       "      <td>2018</td>\n",
       "    </tr>\n",
       "    <tr>\n",
       "      <th>49900</th>\n",
       "      <td>2018-02-18 12:34:00</td>\n",
       "      <td>23.634</td>\n",
       "      <td>2</td>\n",
       "      <td>2018</td>\n",
       "    </tr>\n",
       "    <tr>\n",
       "      <th>49901</th>\n",
       "      <td>2018-02-18 12:37:00</td>\n",
       "      <td>21.500</td>\n",
       "      <td>2</td>\n",
       "      <td>2018</td>\n",
       "    </tr>\n",
       "  </tbody>\n",
       "</table>\n",
       "<p>49902 rows × 4 columns</p>\n",
       "</div>"
      ],
      "text/plain": [
       "                     DATE    Temp  MONTH  YEAR\n",
       "0     2017-02-08 16:36:00  21.000      2  2017\n",
       "1     2017-02-08 16:40:00  21.000      2  2017\n",
       "2     2017-02-08 16:53:00  21.000      2  2017\n",
       "3     2017-02-08 16:57:00  20.500      2  2017\n",
       "4     2017-02-08 17:10:00  20.500      2  2017\n",
       "5     2017-02-08 17:14:00  20.500      2  2017\n",
       "6     2017-02-08 17:27:00  20.500      2  2017\n",
       "7     2017-02-08 17:31:00  20.000      2  2017\n",
       "8     2017-02-08 17:44:00  20.000      2  2017\n",
       "9     2017-02-08 17:48:00  19.500      2  2017\n",
       "10    2017-02-08 18:01:00  19.500      2  2017\n",
       "11    2017-02-08 18:05:00  19.000      2  2017\n",
       "...                   ...     ...    ...   ...\n",
       "49890 2018-02-18 11:09:00  20.632      2  2018\n",
       "49891 2018-02-18 11:12:00  19.500      2  2018\n",
       "49892 2018-02-18 11:26:00  21.633      2  2018\n",
       "49893 2018-02-18 11:29:00  20.000      2  2018\n",
       "49894 2018-02-18 11:43:00  22.634      2  2018\n",
       "49895 2018-02-18 11:46:00  20.500      2  2018\n",
       "49896 2018-02-18 12:00:00  23.134      2  2018\n",
       "49897 2018-02-18 12:03:00  21.000      2  2018\n",
       "49898 2018-02-18 12:17:00  24.135      2  2018\n",
       "49899 2018-02-18 12:20:00  21.500      2  2018\n",
       "49900 2018-02-18 12:34:00  23.634      2  2018\n",
       "49901 2018-02-18 12:37:00  21.500      2  2018\n",
       "\n",
       "[49902 rows x 4 columns]"
      ]
     },
     "execution_count": 81,
     "metadata": {},
     "output_type": "execute_result"
    }
   ],
   "source": [
    "# we are going to use the numerical index for our \"t\" variable\n",
    "# make sure our index is sequential (December 2008 is zero)\n",
    "df.sort_index(inplace=True)\n",
    "df"
   ]
  },
  {
   "cell_type": "markdown",
   "metadata": {},
   "source": [
    "## Bokeh plotting"
   ]
  },
  {
   "cell_type": "markdown",
   "metadata": {},
   "source": [
    "### San Diego"
   ]
  },
  {
   "cell_type": "code",
   "execution_count": 82,
   "metadata": {},
   "outputs": [],
   "source": [
    "from bokeh.plotting import figure, output_file, show\n",
    "import pandas_datareader as pdr\n",
    "import pandas as pd"
   ]
  },
  {
   "cell_type": "code",
   "execution_count": 83,
   "metadata": {},
   "outputs": [
    {
     "name": "stderr",
     "output_type": "stream",
     "text": [
      "W-1001 (NO_DATA_RENDERERS): Plot has no data renderers: Figure(id='e2257b30-ae00-4a41-b1f1-4e1529e948fe', ...)\n",
      "W-1004 (BOTH_CHILD_AND_ROOT): Models should not be a document root if they are in a layout box: Figure(id='75226fce-da86-480d-91eb-34a42d50b038', ...)\n"
     ]
    }
   ],
   "source": [
    "p = figure(width=1000, height=500, x_axis_type='datetime', \n",
    "           tools='pan,wheel_zoom,box_zoom,lasso_select,hover,reset,save')\n",
    "\n",
    "p.circle(df.DATE, df.Temp, color='red', size=10, alpha=0.5)\n",
    "p.line(df.DATE, df.Temp, color='red')\n",
    "\n",
    "output_file('../html/san_diego.html')\n",
    "\n",
    "show(p)"
   ]
  },
  {
   "cell_type": "markdown",
   "metadata": {},
   "source": [
    "### Santa Cruz"
   ]
  },
  {
   "cell_type": "code",
   "execution_count": 84,
   "metadata": {},
   "outputs": [],
   "source": [
    "df2 = pd.read_csv('../data/santa_cruz.csv')"
   ]
  },
  {
   "cell_type": "code",
   "execution_count": 85,
   "metadata": {},
   "outputs": [],
   "source": [
    "df2['DATE'] = pd.to_datetime(df2['Date'])\n",
    "df2 = df2.groupby('DATE').mean()\n",
    "df2['MONTH'] = [x.month for x in df2.index]\n",
    "df2['YEAR'] = [x.year for x in df2.index]\n",
    "df2.reset_index(inplace=True)"
   ]
  },
  {
   "cell_type": "code",
   "execution_count": 86,
   "metadata": {},
   "outputs": [
    {
     "data": {
      "image/png": "[encoded data removed]",
      "text/plain": [
       "<matplotlib.figure.Figure at 0x1a14023710>"
      ]
     },
     "metadata": {},
     "output_type": "display_data"
    }
   ],
   "source": [
    "# explore the data using a plot\n",
    "plt.plot(df2.DATE, df2.Temp);"
   ]
  },
  {
   "cell_type": "code",
   "execution_count": 87,
   "metadata": {},
   "outputs": [
    {
     "data": {
      "image/png": "[encoded data removed]",
      "text/plain": [
       "<matplotlib.figure.Figure at 0x1a134a9438>"
      ]
     },
     "metadata": {},
     "output_type": "display_data"
    }
   ],
   "source": [
    "# make sure our index is sequential\n",
    "plt.plot(df2.index, df2.Temp);"
   ]
  },
  {
   "cell_type": "code",
   "execution_count": 88,
   "metadata": {},
   "outputs": [
    {
     "data": {
      "text/html": [
       "<div>\n",
       "<style scoped>\n",
       "    .dataframe tbody tr th:only-of-type {\n",
       "        vertical-align: middle;\n",
       "    }\n",
       "\n",
       "    .dataframe tbody tr th {\n",
       "        vertical-align: top;\n",
       "    }\n",
       "\n",
       "    .dataframe thead th {\n",
       "        text-align: right;\n",
       "    }\n",
       "</style>\n",
       "<table border=\"1\" class=\"dataframe\">\n",
       "  <thead>\n",
       "    <tr style=\"text-align: right;\">\n",
       "      <th></th>\n",
       "      <th>Temp</th>\n",
       "      <th>MONTH</th>\n",
       "      <th>YEAR</th>\n",
       "    </tr>\n",
       "  </thead>\n",
       "  <tbody>\n",
       "    <tr>\n",
       "      <th>count</th>\n",
       "      <td>94877.000000</td>\n",
       "      <td>94877.000000</td>\n",
       "      <td>94877.000000</td>\n",
       "    </tr>\n",
       "    <tr>\n",
       "      <th>mean</th>\n",
       "      <td>16.628167</td>\n",
       "      <td>6.174078</td>\n",
       "      <td>2017.175933</td>\n",
       "    </tr>\n",
       "    <tr>\n",
       "      <th>std</th>\n",
       "      <td>4.410402</td>\n",
       "      <td>3.672239</td>\n",
       "      <td>0.380765</td>\n",
       "    </tr>\n",
       "    <tr>\n",
       "      <th>min</th>\n",
       "      <td>4.101000</td>\n",
       "      <td>1.000000</td>\n",
       "      <td>2017.000000</td>\n",
       "    </tr>\n",
       "    <tr>\n",
       "      <th>25%</th>\n",
       "      <td>13.619000</td>\n",
       "      <td>3.000000</td>\n",
       "      <td>2017.000000</td>\n",
       "    </tr>\n",
       "    <tr>\n",
       "      <th>50%</th>\n",
       "      <td>16.140500</td>\n",
       "      <td>6.000000</td>\n",
       "      <td>2017.000000</td>\n",
       "    </tr>\n",
       "    <tr>\n",
       "      <th>75%</th>\n",
       "      <td>19.130000</td>\n",
       "      <td>9.000000</td>\n",
       "      <td>2017.000000</td>\n",
       "    </tr>\n",
       "    <tr>\n",
       "      <th>max</th>\n",
       "      <td>40.048000</td>\n",
       "      <td>12.000000</td>\n",
       "      <td>2018.000000</td>\n",
       "    </tr>\n",
       "  </tbody>\n",
       "</table>\n",
       "</div>"
      ],
      "text/plain": [
       "               Temp         MONTH          YEAR\n",
       "count  94877.000000  94877.000000  94877.000000\n",
       "mean      16.628167      6.174078   2017.175933\n",
       "std        4.410402      3.672239      0.380765\n",
       "min        4.101000      1.000000   2017.000000\n",
       "25%       13.619000      3.000000   2017.000000\n",
       "50%       16.140500      6.000000   2017.000000\n",
       "75%       19.130000      9.000000   2017.000000\n",
       "max       40.048000     12.000000   2018.000000"
      ]
     },
     "execution_count": 88,
     "metadata": {},
     "output_type": "execute_result"
    }
   ],
   "source": [
    "# describe\n",
    "df2.describe()"
   ]
  },
  {
   "cell_type": "code",
   "execution_count": 89,
   "metadata": {},
   "outputs": [
    {
     "data": {
      "text/plain": [
       "16.628166668423326"
      ]
     },
     "execution_count": 89,
     "metadata": {},
     "output_type": "execute_result"
    }
   ],
   "source": [
    "# mean\n",
    "df2.Temp.mean()"
   ]
  },
  {
   "cell_type": "code",
   "execution_count": 90,
   "metadata": {},
   "outputs": [
    {
     "data": {
      "image/png": "[encoded data removed]",
      "text/plain": [
       "<matplotlib.figure.Figure at 0x1a0a373b00>"
      ]
     },
     "metadata": {},
     "output_type": "display_data"
    }
   ],
   "source": [
    "sns.regplot(x='MONTH', y='Temp', data=df2, color='blue', order=1);"
   ]
  },
  {
   "cell_type": "code",
   "execution_count": 91,
   "metadata": {},
   "outputs": [
    {
     "data": {
      "image/png": "[encoded data removed]",
      "text/plain": [
       "<matplotlib.figure.Figure at 0x1a09ac39e8>"
      ]
     },
     "metadata": {},
     "output_type": "display_data"
    }
   ],
   "source": [
    "sns.regplot(x='MONTH', y='Temp', data=df2, order=2, color='blue');"
   ]
  },
  {
   "cell_type": "code",
   "execution_count": 92,
   "metadata": {},
   "outputs": [
    {
     "name": "stderr",
     "output_type": "stream",
     "text": [
      "W-1001 (NO_DATA_RENDERERS): Plot has no data renderers: Figure(id='e2257b30-ae00-4a41-b1f1-4e1529e948fe', ...)\n",
      "W-1004 (BOTH_CHILD_AND_ROOT): Models should not be a document root if they are in a layout box: Figure(id='75226fce-da86-480d-91eb-34a42d50b038', ...)\n"
     ]
    }
   ],
   "source": [
    "p2 = figure(width=1000, height=500, x_axis_type='datetime', \n",
    "           tools='pan,wheel_zoom,box_zoom,lasso_select,hover,reset,save')\n",
    "\n",
    "p2.circle(df2.DATE, df2.Temp, color='blue', size=10, alpha=0.5)\n",
    "p2.line(df2.DATE, df2.Temp, color='blue')\n",
    "\n",
    "output_file('../html/santa_cruz.html')\n",
    "\n",
    "show(p2)"
   ]
  },
  {
   "cell_type": "markdown",
   "metadata": {},
   "source": [
    "### Bird Rock"
   ]
  },
  {
   "cell_type": "code",
   "execution_count": 93,
   "metadata": {},
   "outputs": [],
   "source": [
    "df3 = pd.read_csv('../data/bird_rock.csv')"
   ]
  },
  {
   "cell_type": "code",
   "execution_count": 94,
   "metadata": {},
   "outputs": [],
   "source": [
    "df3['DATE'] = pd.to_datetime(df3['Date'])\n",
    "df3 = df3.groupby('DATE').mean()\n",
    "df3['MONTH'] = [x.month for x in df3.index]\n",
    "df3['YEAR'] = [x.year for x in df3.index]\n",
    "df3.reset_index(inplace=True)"
   ]
  },
  {
   "cell_type": "code",
   "execution_count": 95,
   "metadata": {},
   "outputs": [
    {
     "data": {
      "image/png": "[encoded data removed]",
      "text/plain": [
       "<matplotlib.figure.Figure at 0x1a09acfe48>"
      ]
     },
     "metadata": {},
     "output_type": "display_data"
    }
   ],
   "source": [
    "# explore the data using a plot\n",
    "plt.plot(df3.DATE, df3.Temp, color='green');"
   ]
  },
  {
   "cell_type": "code",
   "execution_count": 96,
   "metadata": {},
   "outputs": [
    {
     "data": {
      "image/png": "[encoded data removed]",
      "text/plain": [
       "<matplotlib.figure.Figure at 0x1a09acfda0>"
      ]
     },
     "metadata": {},
     "output_type": "display_data"
    }
   ],
   "source": [
    "# make sure our index is sequential\n",
    "plt.plot(df3.index, df3.Temp, color='green');"
   ]
  },
  {
   "cell_type": "code",
   "execution_count": 97,
   "metadata": {},
   "outputs": [
    {
     "data": {
      "image/png": "[encoded data removed]",
      "text/plain": [
       "<matplotlib.figure.Figure at 0x1a14090080>"
      ]
     },
     "metadata": {},
     "output_type": "display_data"
    }
   ],
   "source": [
    "sns.regplot(x='MONTH', y='Temp', data=df3, color='green', order=1);"
   ]
  },
  {
   "cell_type": "code",
   "execution_count": 98,
   "metadata": {},
   "outputs": [
    {
     "data": {
      "image/png": "[encoded data removed]",
      "text/plain": [
       "<matplotlib.figure.Figure at 0x1a13482ef0>"
      ]
     },
     "metadata": {},
     "output_type": "display_data"
    }
   ],
   "source": [
    "sns.regplot(x='MONTH', y='Temp', data=df2, order=2, color='green');"
   ]
  },
  {
   "cell_type": "code",
   "execution_count": 99,
   "metadata": {},
   "outputs": [
    {
     "name": "stderr",
     "output_type": "stream",
     "text": [
      "W-1001 (NO_DATA_RENDERERS): Plot has no data renderers: Figure(id='e2257b30-ae00-4a41-b1f1-4e1529e948fe', ...)\n",
      "W-1004 (BOTH_CHILD_AND_ROOT): Models should not be a document root if they are in a layout box: Figure(id='75226fce-da86-480d-91eb-34a42d50b038', ...)\n"
     ]
    }
   ],
   "source": [
    "p3 = figure(width=1000, height=500, x_axis_type='datetime', \n",
    "           tools='pan,wheel_zoom,box_zoom,lasso_select,hover,reset,save')\n",
    "\n",
    "p3.circle(df3.DATE, df3.Temp, color='green', size=10, alpha=0.5)\n",
    "p3.line(df3.DATE, df3.Temp, color='green')\n",
    "\n",
    "output_file('../html/bird_rock.html')\n",
    "\n",
    "show(p3)"
   ]
  },
  {
   "cell_type": "markdown",
   "metadata": {},
   "source": [
    "## Combining bokeh graphs"
   ]
  },
  {
   "cell_type": "code",
   "execution_count": 100,
   "metadata": {},
   "outputs": [
    {
     "name": "stderr",
     "output_type": "stream",
     "text": [
      "W-1001 (NO_DATA_RENDERERS): Plot has no data renderers: Figure(id='e2257b30-ae00-4a41-b1f1-4e1529e948fe', ...)\n",
      "W-1004 (BOTH_CHILD_AND_ROOT): Models should not be a document root if they are in a layout box: Figure(id='75226fce-da86-480d-91eb-34a42d50b038', ...)\n"
     ]
    }
   ],
   "source": [
    "from bokeh.layouts import gridplot\n",
    "from bokeh.plotting import figure, output_file, show\n",
    "\n",
    "# output to static HTML file\n",
    "output_file(\"linked_panning.html\")\n",
    "\n",
    "# create a new plot\n",
    "\n",
    "p = figure(width=500, height=250, x_axis_type='datetime')\n",
    "p.circle(df.DATE, df.Temp, color='red', size=1, alpha=0.5)\n",
    "p.line(df.DATE, df.Temp, color='red', line_width=1)\n",
    "\n",
    "# NEW: create a new plot and share both ranges\n",
    "\n",
    "p2 = figure(width=500, height=250, x_range=p.x_range, y_range=p.y_range, x_axis_type='datetime', title=None)\n",
    "p2.circle(df2.DATE, df2.Temp, color='blue', size=1, alpha=0.5)\n",
    "p2.line(df2.DATE, df2.Temp, color='blue', line_width=1)\n",
    "\n",
    "# Third plot\n",
    "\n",
    "p3 = figure(width=500, height=250, x_range=p.x_range, y_range=p.y_range, x_axis_type='datetime', title=None)\n",
    "p3.circle(df3.DATE, df3.Temp, color='green', size=1, alpha=0.5)\n",
    "p3.line(df3.DATE, df3.Temp, color='green', line_width=1)\n",
    "\n",
    "# NEW: put the subplots in a gridplot\n",
    "q = gridplot([[p, p2, p3]], toolbar_location=None)\n",
    "\n",
    "# show the results\n",
    "show(q)"
   ]
  },
  {
   "cell_type": "code",
   "execution_count": null,
   "metadata": {},
   "outputs": [],
   "source": []
  }
 ],
 "metadata": {
  "kernelspec": {
   "display_name": "Python 3",
   "language": "python",
   "name": "python3"
  },
  "language_info": {
   "codemirror_mode": {
    "name": "ipython",
    "version": 3
   },
   "file_extension": ".py",
   "mimetype": "text/x-python",
   "name": "python",
   "nbconvert_exporter": "python",
   "pygments_lexer": "ipython3",
   "version": "3.5.4"
  }
 },
 "nbformat": 4,
 "nbformat_minor": 2
}
